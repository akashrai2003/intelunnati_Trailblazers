{
 "cells": [
  {
   "cell_type": "markdown",
   "metadata": {},
   "source": [
    "# 1. Importing Libraries"
   ]
  },
  {
   "cell_type": "code",
   "execution_count": 1,
   "metadata": {
    "tags": []
   },
   "outputs": [
    {
     "name": "stderr",
     "output_type": "stream",
     "text": [
      "[nltk_data] Downloading package stopwords to\n",
      "[nltk_data]     C:\\Users\\akash\\AppData\\Roaming\\nltk_data...\n",
      "[nltk_data]   Package stopwords is already up-to-date!\n"
     ]
    }
   ],
   "source": [
    "import pandas as pd\n",
    "import numpy as np\n",
    "import re\n",
    "from nltk.corpus import stopwords\n",
    "from nltk.stem.porter import PorterStemmer\n",
    "import nltk\n",
    "nltk.download('stopwords')\n",
    "\n",
    "import seaborn as sns\n",
    "from matplotlib.pylab import plt\n",
    "import time\n",
    "import datetime\n",
    "from sklearn.metrics import f1_score, accuracy_score, confusion_matrix, precision_score, recall_score\n",
    "\n",
    "from sklearn.feature_extraction.text import CountVectorizer, TfidfVectorizer\n",
    "import torch\n",
    "from transformers import BertTokenizer, BertForSequenceClassification, AdamW, get_linear_schedule_with_warmup\n",
    "from torch.utils.data import TensorDataset, random_split, DataLoader"
   ]
  },
  {
   "cell_type": "markdown",
   "metadata": {},
   "source": [
    "# 2. Configurations"
   ]
  },
  {
   "cell_type": "code",
   "execution_count": 2,
   "metadata": {},
   "outputs": [],
   "source": [
    "fake_data = pd.read_csv(r\"C:/Users/akash/Downloads/News-_dataset/Fake.csv\")\n",
    "true_data = pd.read_csv(r\"C:/Users/akash/Downloads/News-_dataset/True.csv\")"
   ]
  },
  {
   "cell_type": "code",
   "execution_count": 3,
   "metadata": {},
   "outputs": [
    {
     "name": "stdout",
     "output_type": "stream",
     "text": [
      "(44898, 5)\n"
     ]
    },
    {
     "name": "stderr",
     "output_type": "stream",
     "text": [
      "C:\\Users\\akash\\AppData\\Local\\Temp\\ipykernel_8928\\3795389126.py:4: FutureWarning: The frame.append method is deprecated and will be removed from pandas in a future version. Use pandas.concat instead.\n",
      "  news_data = true_data.append(fake_data).sample(frac = 1).reset_index().drop(columns=['index'])\n"
     ]
    },
    {
     "data": {
      "text/html": [
       "<div>\n",
       "<style scoped>\n",
       "    .dataframe tbody tr th:only-of-type {\n",
       "        vertical-align: middle;\n",
       "    }\n",
       "\n",
       "    .dataframe tbody tr th {\n",
       "        vertical-align: top;\n",
       "    }\n",
       "\n",
       "    .dataframe thead th {\n",
       "        text-align: right;\n",
       "    }\n",
       "</style>\n",
       "<table border=\"1\" class=\"dataframe\">\n",
       "  <thead>\n",
       "    <tr style=\"text-align: right;\">\n",
       "      <th></th>\n",
       "      <th>title</th>\n",
       "      <th>text</th>\n",
       "      <th>subject</th>\n",
       "      <th>date</th>\n",
       "      <th>label</th>\n",
       "    </tr>\n",
       "  </thead>\n",
       "  <tbody>\n",
       "    <tr>\n",
       "      <th>0</th>\n",
       "      <td>Trump, Malaysian PM discuss trade deals, Boein...</td>\n",
       "      <td>WASHINGTON (Reuters) - U.S. President Donald T...</td>\n",
       "      <td>worldnews</td>\n",
       "      <td>September 12, 2017</td>\n",
       "      <td>True</td>\n",
       "    </tr>\n",
       "    <tr>\n",
       "      <th>1</th>\n",
       "      <td>Trump and spy chief differ on what was said in...</td>\n",
       "      <td>WASHINGTON (Reuters) - U.S. spy chief James Cl...</td>\n",
       "      <td>politicsNews</td>\n",
       "      <td>January 12, 2017</td>\n",
       "      <td>True</td>\n",
       "    </tr>\n",
       "    <tr>\n",
       "      <th>2</th>\n",
       "      <td>Court orders Trump administration to give immi...</td>\n",
       "      <td>WASHINGTON (Reuters) - A U.S. District Court j...</td>\n",
       "      <td>politicsNews</td>\n",
       "      <td>December 19, 2017</td>\n",
       "      <td>True</td>\n",
       "    </tr>\n",
       "    <tr>\n",
       "      <th>3</th>\n",
       "      <td>New Poll Shows How Batsh** CRAZY Trump Fans A...</td>\n",
       "      <td>The supporters of President-elect Donald Trump...</td>\n",
       "      <td>News</td>\n",
       "      <td>December 9, 2016</td>\n",
       "      <td>Fake</td>\n",
       "    </tr>\n",
       "    <tr>\n",
       "      <th>4</th>\n",
       "      <td>Macron's Europe speech draws mixed reaction in...</td>\n",
       "      <td>BERLIN (Reuters) - French President Emmanuel M...</td>\n",
       "      <td>worldnews</td>\n",
       "      <td>September 26, 2017</td>\n",
       "      <td>True</td>\n",
       "    </tr>\n",
       "  </tbody>\n",
       "</table>\n",
       "</div>"
      ],
      "text/plain": [
       "                                               title  \\\n",
       "0  Trump, Malaysian PM discuss trade deals, Boein...   \n",
       "1  Trump and spy chief differ on what was said in...   \n",
       "2  Court orders Trump administration to give immi...   \n",
       "3   New Poll Shows How Batsh** CRAZY Trump Fans A...   \n",
       "4  Macron's Europe speech draws mixed reaction in...   \n",
       "\n",
       "                                                text       subject  \\\n",
       "0  WASHINGTON (Reuters) - U.S. President Donald T...     worldnews   \n",
       "1  WASHINGTON (Reuters) - U.S. spy chief James Cl...  politicsNews   \n",
       "2  WASHINGTON (Reuters) - A U.S. District Court j...  politicsNews   \n",
       "3  The supporters of President-elect Donald Trump...          News   \n",
       "4  BERLIN (Reuters) - French President Emmanuel M...     worldnews   \n",
       "\n",
       "                  date label  \n",
       "0  September 12, 2017   True  \n",
       "1    January 12, 2017   True  \n",
       "2   December 19, 2017   True  \n",
       "3     December 9, 2016  Fake  \n",
       "4  September 26, 2017   True  "
      ]
     },
     "execution_count": 3,
     "metadata": {},
     "output_type": "execute_result"
    }
   ],
   "source": [
    "true_data['label'] = ['True']*len(true_data)\n",
    "fake_data['label'] = ['Fake']*len(fake_data)\n",
    "\n",
    "news_data = true_data.append(fake_data).sample(frac = 1).reset_index().drop(columns=['index'])\n",
    "\n",
    "print(news_data.shape)\n",
    "news_data.head()"
   ]
  },
  {
   "cell_type": "code",
   "execution_count": 4,
   "metadata": {},
   "outputs": [],
   "source": [
    "news_data.loc[news_data[\"label\"] == \"Fake\", \"label\"] = 0\n",
    "news_data.loc[news_data[\"label\"] == \"True\", \"label\"] = 1"
   ]
  },
  {
   "cell_type": "code",
   "execution_count": 5,
   "metadata": {},
   "outputs": [
    {
     "data": {
      "text/html": [
       "<div>\n",
       "<style scoped>\n",
       "    .dataframe tbody tr th:only-of-type {\n",
       "        vertical-align: middle;\n",
       "    }\n",
       "\n",
       "    .dataframe tbody tr th {\n",
       "        vertical-align: top;\n",
       "    }\n",
       "\n",
       "    .dataframe thead th {\n",
       "        text-align: right;\n",
       "    }\n",
       "</style>\n",
       "<table border=\"1\" class=\"dataframe\">\n",
       "  <thead>\n",
       "    <tr style=\"text-align: right;\">\n",
       "      <th></th>\n",
       "      <th>title</th>\n",
       "      <th>text</th>\n",
       "      <th>subject</th>\n",
       "      <th>date</th>\n",
       "      <th>label</th>\n",
       "    </tr>\n",
       "  </thead>\n",
       "  <tbody>\n",
       "    <tr>\n",
       "      <th>0</th>\n",
       "      <td>Trump, Malaysian PM discuss trade deals, Boein...</td>\n",
       "      <td>WASHINGTON (Reuters) - U.S. President Donald T...</td>\n",
       "      <td>worldnews</td>\n",
       "      <td>September 12, 2017</td>\n",
       "      <td>1</td>\n",
       "    </tr>\n",
       "    <tr>\n",
       "      <th>1</th>\n",
       "      <td>Trump and spy chief differ on what was said in...</td>\n",
       "      <td>WASHINGTON (Reuters) - U.S. spy chief James Cl...</td>\n",
       "      <td>politicsNews</td>\n",
       "      <td>January 12, 2017</td>\n",
       "      <td>1</td>\n",
       "    </tr>\n",
       "    <tr>\n",
       "      <th>2</th>\n",
       "      <td>Court orders Trump administration to give immi...</td>\n",
       "      <td>WASHINGTON (Reuters) - A U.S. District Court j...</td>\n",
       "      <td>politicsNews</td>\n",
       "      <td>December 19, 2017</td>\n",
       "      <td>1</td>\n",
       "    </tr>\n",
       "    <tr>\n",
       "      <th>3</th>\n",
       "      <td>New Poll Shows How Batsh** CRAZY Trump Fans A...</td>\n",
       "      <td>The supporters of President-elect Donald Trump...</td>\n",
       "      <td>News</td>\n",
       "      <td>December 9, 2016</td>\n",
       "      <td>0</td>\n",
       "    </tr>\n",
       "    <tr>\n",
       "      <th>4</th>\n",
       "      <td>Macron's Europe speech draws mixed reaction in...</td>\n",
       "      <td>BERLIN (Reuters) - French President Emmanuel M...</td>\n",
       "      <td>worldnews</td>\n",
       "      <td>September 26, 2017</td>\n",
       "      <td>1</td>\n",
       "    </tr>\n",
       "    <tr>\n",
       "      <th>...</th>\n",
       "      <td>...</td>\n",
       "      <td>...</td>\n",
       "      <td>...</td>\n",
       "      <td>...</td>\n",
       "      <td>...</td>\n",
       "    </tr>\n",
       "    <tr>\n",
       "      <th>44893</th>\n",
       "      <td>BIG MISTAKE! HILLARY JUST Proved To America Sh...</td>\n",
       "      <td>Dividing America will be Obama s legacy. Hilla...</td>\n",
       "      <td>left-news</td>\n",
       "      <td>Sep 21, 2016</td>\n",
       "      <td>0</td>\n",
       "    </tr>\n",
       "    <tr>\n",
       "      <th>44894</th>\n",
       "      <td>Hong Kong's vanishing archives and the battle ...</td>\n",
       "      <td>HONG KONG (Reuters) - For anyone digging into ...</td>\n",
       "      <td>worldnews</td>\n",
       "      <td>September 6, 2017</td>\n",
       "      <td>1</td>\n",
       "    </tr>\n",
       "    <tr>\n",
       "      <th>44895</th>\n",
       "      <td>Trump, Bill Clinton trade insults in unusual e...</td>\n",
       "      <td>WASHINGTON (Reuters) - Donald Trump pounced on...</td>\n",
       "      <td>politicsNews</td>\n",
       "      <td>December 20, 2016</td>\n",
       "      <td>1</td>\n",
       "    </tr>\n",
       "    <tr>\n",
       "      <th>44896</th>\n",
       "      <td>Truck attack suspect's New Jersey city a haven...</td>\n",
       "      <td>PATERSON, N.J. (Reuters) - With its enormous M...</td>\n",
       "      <td>politicsNews</td>\n",
       "      <td>November 2, 2017</td>\n",
       "      <td>1</td>\n",
       "    </tr>\n",
       "    <tr>\n",
       "      <th>44897</th>\n",
       "      <td>Schumer, McConnell elected top leaders in Senate</td>\n",
       "      <td>WASHINGTON (Reuters) - Democratic U.S. senator...</td>\n",
       "      <td>politicsNews</td>\n",
       "      <td>November 16, 2016</td>\n",
       "      <td>1</td>\n",
       "    </tr>\n",
       "  </tbody>\n",
       "</table>\n",
       "<p>44898 rows × 5 columns</p>\n",
       "</div>"
      ],
      "text/plain": [
       "                                                   title  \\\n",
       "0      Trump, Malaysian PM discuss trade deals, Boein...   \n",
       "1      Trump and spy chief differ on what was said in...   \n",
       "2      Court orders Trump administration to give immi...   \n",
       "3       New Poll Shows How Batsh** CRAZY Trump Fans A...   \n",
       "4      Macron's Europe speech draws mixed reaction in...   \n",
       "...                                                  ...   \n",
       "44893  BIG MISTAKE! HILLARY JUST Proved To America Sh...   \n",
       "44894  Hong Kong's vanishing archives and the battle ...   \n",
       "44895  Trump, Bill Clinton trade insults in unusual e...   \n",
       "44896  Truck attack suspect's New Jersey city a haven...   \n",
       "44897   Schumer, McConnell elected top leaders in Senate   \n",
       "\n",
       "                                                    text       subject  \\\n",
       "0      WASHINGTON (Reuters) - U.S. President Donald T...     worldnews   \n",
       "1      WASHINGTON (Reuters) - U.S. spy chief James Cl...  politicsNews   \n",
       "2      WASHINGTON (Reuters) - A U.S. District Court j...  politicsNews   \n",
       "3      The supporters of President-elect Donald Trump...          News   \n",
       "4      BERLIN (Reuters) - French President Emmanuel M...     worldnews   \n",
       "...                                                  ...           ...   \n",
       "44893  Dividing America will be Obama s legacy. Hilla...     left-news   \n",
       "44894  HONG KONG (Reuters) - For anyone digging into ...     worldnews   \n",
       "44895  WASHINGTON (Reuters) - Donald Trump pounced on...  politicsNews   \n",
       "44896  PATERSON, N.J. (Reuters) - With its enormous M...  politicsNews   \n",
       "44897  WASHINGTON (Reuters) - Democratic U.S. senator...  politicsNews   \n",
       "\n",
       "                      date label  \n",
       "0      September 12, 2017      1  \n",
       "1        January 12, 2017      1  \n",
       "2       December 19, 2017      1  \n",
       "3         December 9, 2016     0  \n",
       "4      September 26, 2017      1  \n",
       "...                    ...   ...  \n",
       "44893         Sep 21, 2016     0  \n",
       "44894   September 6, 2017      1  \n",
       "44895   December 20, 2016      1  \n",
       "44896    November 2, 2017      1  \n",
       "44897   November 16, 2016      1  \n",
       "\n",
       "[44898 rows x 5 columns]"
      ]
     },
     "execution_count": 5,
     "metadata": {},
     "output_type": "execute_result"
    }
   ],
   "source": [
    "news_data"
   ]
  },
  {
   "cell_type": "code",
   "execution_count": 6,
   "metadata": {},
   "outputs": [
    {
     "name": "stdout",
     "output_type": "stream",
     "text": [
      "<class 'pandas.core.frame.DataFrame'>\n",
      "RangeIndex: 44898 entries, 0 to 44897\n",
      "Data columns (total 5 columns):\n",
      " #   Column   Non-Null Count  Dtype \n",
      "---  ------   --------------  ----- \n",
      " 0   title    44898 non-null  object\n",
      " 1   text     44898 non-null  object\n",
      " 2   subject  44898 non-null  object\n",
      " 3   date     44898 non-null  object\n",
      " 4   label    44898 non-null  object\n",
      "dtypes: object(5)\n",
      "memory usage: 1.7+ MB\n"
     ]
    }
   ],
   "source": [
    "news_data.info()"
   ]
  },
  {
   "cell_type": "code",
   "execution_count": 7,
   "metadata": {},
   "outputs": [
    {
     "data": {
      "text/plain": [
       "title      0\n",
       "text       0\n",
       "subject    0\n",
       "date       0\n",
       "label      0\n",
       "dtype: int64"
      ]
     },
     "execution_count": 7,
     "metadata": {},
     "output_type": "execute_result"
    }
   ],
   "source": [
    "news_data.isnull().sum()"
   ]
  },
  {
   "cell_type": "code",
   "execution_count": 8,
   "metadata": {},
   "outputs": [],
   "source": [
    "news_data = news_data.fillna('')"
   ]
  },
  {
   "cell_type": "code",
   "execution_count": 9,
   "metadata": {},
   "outputs": [
    {
     "data": {
      "text/plain": [
       "title      0\n",
       "text       0\n",
       "subject    0\n",
       "date       0\n",
       "label      0\n",
       "dtype: int64"
      ]
     },
     "execution_count": 9,
     "metadata": {},
     "output_type": "execute_result"
    }
   ],
   "source": [
    "news_data.isnull().sum()"
   ]
  },
  {
   "cell_type": "code",
   "execution_count": 10,
   "metadata": {},
   "outputs": [
    {
     "data": {
      "text/plain": [
       "title      38729\n",
       "text       38646\n",
       "subject        8\n",
       "date        2397\n",
       "label          2\n",
       "dtype: int64"
      ]
     },
     "execution_count": 10,
     "metadata": {},
     "output_type": "execute_result"
    }
   ],
   "source": [
    "news_data.nunique()"
   ]
  },
  {
   "cell_type": "code",
   "execution_count": 11,
   "metadata": {},
   "outputs": [
    {
     "data": {
      "text/plain": [
       "Text(0.5, 1.0, 'Target Count')"
      ]
     },
     "execution_count": 11,
     "metadata": {},
     "output_type": "execute_result"
    },
    {
     "data": {
      "image/png": "[encoded data removed]",
      "text/plain": [
       "<Figure size 640x480 with 1 Axes>"
      ]
     },
     "metadata": {},
     "output_type": "display_data"
    }
   ],
   "source": [
    "sns.countplot(x='subject',data=news_data)\n",
    "plt.title('Target Count', fontsize=9)"
   ]
  },
  {
   "cell_type": "markdown",
   "metadata": {},
   "source": [
    "# 3. Building Dataset"
   ]
  },
  {
   "cell_type": "markdown",
   "metadata": {},
   "source": [
    "### Stemming & Extracting text data using TF-IDF"
   ]
  },
  {
   "cell_type": "code",
   "execution_count": 12,
   "metadata": {},
   "outputs": [],
   "source": [
    "port = PorterStemmer()\n",
    "\n",
    "def stemming(text):\n",
    "    stem_text = re.sub('[^a-zA-Z0-9]', ' ', text)\n",
    "    stem_text = stem_text.lower()\n",
    "    stem_text = stem_text.split()\n",
    "    \n",
    "    stem_text = [port.stem(word) for word in stem_text if not word in stopwords.words('english')]\n",
    "    stem_text = ' '.join(stem_text)\n",
    "    \n",
    "    return stem_text"
   ]
  },
  {
   "cell_type": "markdown",
   "metadata": {},
   "source": [
    "Since there are too many text data, we extracted only important words using TF-IDF."
   ]
  },
  {
   "cell_type": "code",
   "execution_count": 13,
   "metadata": {},
   "outputs": [],
   "source": [
    "def refinement_tfidf(text): # TF-IDF\n",
    "    ex = text.split('.')\n",
    "    ex = pd.DataFrame(ex)[0].apply(stemming)\n",
    "    \n",
    "    if ex[0] == '':\n",
    "        return text\n",
    "    \n",
    "    vectorizer = TfidfVectorizer()\n",
    "    try:\n",
    "        vectorizer.fit(ex)\n",
    "        features = vectorizer.transform(ex)\n",
    "    except:\n",
    "        return text\n",
    "    \n",
    "    feature_names = np.array(vectorizer.get_feature_names_out())\n",
    "    feature_count = features.toarray().mean(axis=0)\n",
    "    \n",
    "    refined_text = ' '.join(feature_names[feature_count > 0.05]) # setting the importance weights according to TF-IDF\n",
    "    \n",
    "    return refined_text"
   ]
  },
  {
   "cell_type": "code",
   "execution_count": null,
   "metadata": {
    "scrolled": false
   },
   "outputs": [],
   "source": [
    "t0 = time.time()\n",
    "news_data['refined_tfidf'] = news_data['text'].apply(refinement_tfidf)\n",
    "print(time.time() - t0) # It takes about 45 minutes..."
   ]
  },
  {
   "cell_type": "code",
   "execution_count": 15,
   "metadata": {},
   "outputs": [
    {
     "name": "stdout",
     "output_type": "stream",
     "text": [
      "177.04088735580444\n"
     ]
    }
   ],
   "source": [
    "t0 = time.time()\n",
    "news_data['refined_tfidf'] = news_data['title'].apply(refinement_tfidf)\n",
    "print(time.time() - t0)"
   ]
  },
  {
   "cell_type": "code",
   "execution_count": 16,
   "metadata": {},
   "outputs": [
    {
     "data": {
      "text/html": [
       "<div>\n",
       "<style scoped>\n",
       "    .dataframe tbody tr th:only-of-type {\n",
       "        vertical-align: middle;\n",
       "    }\n",
       "\n",
       "    .dataframe tbody tr th {\n",
       "        vertical-align: top;\n",
       "    }\n",
       "\n",
       "    .dataframe thead th {\n",
       "        text-align: right;\n",
       "    }\n",
       "</style>\n",
       "<table border=\"1\" class=\"dataframe\">\n",
       "  <thead>\n",
       "    <tr style=\"text-align: right;\">\n",
       "      <th></th>\n",
       "      <th>title</th>\n",
       "      <th>text</th>\n",
       "      <th>subject</th>\n",
       "      <th>date</th>\n",
       "      <th>label</th>\n",
       "      <th>refined_tfidf</th>\n",
       "    </tr>\n",
       "  </thead>\n",
       "  <tbody>\n",
       "    <tr>\n",
       "      <th>0</th>\n",
       "      <td>Trump, Malaysian PM discuss trade deals, Boein...</td>\n",
       "      <td>WASHINGTON (Reuters) - U.S. President Donald T...</td>\n",
       "      <td>worldnews</td>\n",
       "      <td>September 12, 2017</td>\n",
       "      <td>1</td>\n",
       "      <td>boe deal discuss jet malaysian pm trade trump</td>\n",
       "    </tr>\n",
       "    <tr>\n",
       "      <th>1</th>\n",
       "      <td>Trump and spy chief differ on what was said in...</td>\n",
       "      <td>WASHINGTON (Reuters) - U.S. spy chief James Cl...</td>\n",
       "      <td>politicsNews</td>\n",
       "      <td>January 12, 2017</td>\n",
       "      <td>1</td>\n",
       "      <td>call chief differ dossier russia said spi trump</td>\n",
       "    </tr>\n",
       "    <tr>\n",
       "      <th>2</th>\n",
       "      <td>Court orders Trump administration to give immi...</td>\n",
       "      <td>WASHINGTON (Reuters) - A U.S. District Court j...</td>\n",
       "      <td>politicsNews</td>\n",
       "      <td>December 19, 2017</td>\n",
       "      <td>1</td>\n",
       "      <td>abort access administr court give immigr order...</td>\n",
       "    </tr>\n",
       "    <tr>\n",
       "      <th>3</th>\n",
       "      <td>New Poll Shows How Batsh** CRAZY Trump Fans A...</td>\n",
       "      <td>The supporters of President-elect Donald Trump...</td>\n",
       "      <td>News</td>\n",
       "      <td>December 9, 2016</td>\n",
       "      <td>0</td>\n",
       "      <td>batsh brutal check crazi fan give imag new pol...</td>\n",
       "    </tr>\n",
       "    <tr>\n",
       "      <th>4</th>\n",
       "      <td>Macron's Europe speech draws mixed reaction in...</td>\n",
       "      <td>BERLIN (Reuters) - French President Emmanuel M...</td>\n",
       "      <td>worldnews</td>\n",
       "      <td>September 26, 2017</td>\n",
       "      <td>1</td>\n",
       "      <td>berlin draw europ macron mix reaction speech</td>\n",
       "    </tr>\n",
       "  </tbody>\n",
       "</table>\n",
       "</div>"
      ],
      "text/plain": [
       "                                               title  \\\n",
       "0  Trump, Malaysian PM discuss trade deals, Boein...   \n",
       "1  Trump and spy chief differ on what was said in...   \n",
       "2  Court orders Trump administration to give immi...   \n",
       "3   New Poll Shows How Batsh** CRAZY Trump Fans A...   \n",
       "4  Macron's Europe speech draws mixed reaction in...   \n",
       "\n",
       "                                                text       subject  \\\n",
       "0  WASHINGTON (Reuters) - U.S. President Donald T...     worldnews   \n",
       "1  WASHINGTON (Reuters) - U.S. spy chief James Cl...  politicsNews   \n",
       "2  WASHINGTON (Reuters) - A U.S. District Court j...  politicsNews   \n",
       "3  The supporters of President-elect Donald Trump...          News   \n",
       "4  BERLIN (Reuters) - French President Emmanuel M...     worldnews   \n",
       "\n",
       "                  date  label  \\\n",
       "0  September 12, 2017       1   \n",
       "1    January 12, 2017       1   \n",
       "2   December 19, 2017       1   \n",
       "3     December 9, 2016      0   \n",
       "4  September 26, 2017       1   \n",
       "\n",
       "                                       refined_tfidf  \n",
       "0      boe deal discuss jet malaysian pm trade trump  \n",
       "1    call chief differ dossier russia said spi trump  \n",
       "2  abort access administr court give immigr order...  \n",
       "3  batsh brutal check crazi fan give imag new pol...  \n",
       "4       berlin draw europ macron mix reaction speech  "
      ]
     },
     "execution_count": 16,
     "metadata": {},
     "output_type": "execute_result"
    }
   ],
   "source": [
    "news_data.head()"
   ]
  },
  {
   "cell_type": "code",
   "execution_count": 17,
   "metadata": {},
   "outputs": [],
   "source": [
    "labels = news_data['label'].values\n",
    "texts = (news_data['refined_tfidf']).values"
   ]
  },
  {
   "cell_type": "markdown",
   "metadata": {},
   "source": [
    "### Tokenization"
   ]
  },
  {
   "cell_type": "code",
   "execution_count": 18,
   "metadata": {},
   "outputs": [],
   "source": [
    "tokenizer = BertTokenizer.from_pretrained('bert-base-uncased')"
   ]
  },
  {
   "cell_type": "code",
   "execution_count": 19,
   "metadata": {},
   "outputs": [
    {
     "name": "stdout",
     "output_type": "stream",
     "text": [
      "bid drop former gilmor governor presidenti republican virginia\n",
      "['bid', 'drop', 'former', 'gil', '##mo', '##r', 'governor', 'president', '##i', 'republican', 'virginia']\n",
      "[7226, 4530, 2280, 13097, 5302, 2099, 3099, 2343, 2072, 3951, 3448]\n"
     ]
    }
   ],
   "source": [
    "idx = np.random.choice(range(len(texts)))\n",
    "print(texts[idx])\n",
    "# Tokenized\n",
    "print(tokenizer.tokenize(texts[idx]))\n",
    "# Token to Integral\n",
    "print(tokenizer.convert_tokens_to_ids(tokenizer.tokenize(texts[idx])))"
   ]
  },
  {
   "cell_type": "code",
   "execution_count": 20,
   "metadata": {},
   "outputs": [
    {
     "name": "stdout",
     "output_type": "stream",
     "text": [
      "Max sentence length:  54\n"
     ]
    }
   ],
   "source": [
    "max_len = 0\n",
    "id_len = []\n",
    "for text in texts:\n",
    "    input_ids = tokenizer.encode(text, add_special_tokens=True)\n",
    "    if len(input_ids) > 200:\n",
    "        continue\n",
    "    id_len.append(len(input_ids))\n",
    "    max_len = max(max_len, len(input_ids))\n",
    "print('Max sentence length: ', max_len)"
   ]
  },
  {
   "cell_type": "code",
   "execution_count": 21,
   "metadata": {},
   "outputs": [
    {
     "data": {
      "text/plain": [
       "<Axes: >"
      ]
     },
     "execution_count": 21,
     "metadata": {},
     "output_type": "execute_result"
    },
    {
     "data": {
      "image/png": "[encoded data removed]",
      "text/plain": [
       "<Figure size 640x480 with 1 Axes>"
      ]
     },
     "metadata": {},
     "output_type": "display_data"
    }
   ],
   "source": [
    "pd.Series(id_len).hist(bins=25)"
   ]
  },
  {
   "cell_type": "code",
   "execution_count": 22,
   "metadata": {},
   "outputs": [],
   "source": [
    "def tokenize_map(sentence, labs='None'):\n",
    "    global labels\n",
    "    input_ids = []\n",
    "    attention_masks = []\n",
    "    for text in sentence:\n",
    "        encoded_dict = tokenizer.encode_plus(\n",
    "                            text,\n",
    "                            add_special_tokens = True, # [CLS] & [SEP]\n",
    "                            truncation = 'longest_first', # Control truncation\n",
    "                            max_length = 100, # Max length about texts\n",
    "                            pad_to_max_length = True, # Pad and truncate about sentences\n",
    "                            return_attention_mask = True, # Attention masks\n",
    "                            return_tensors = 'pt') # Return to pytorch tensors\n",
    "        input_ids.append(encoded_dict['input_ids'])\n",
    "        attention_masks.append(encoded_dict['attention_mask'])\n",
    "    \n",
    "    input_ids = torch.cat(input_ids, dim=0)\n",
    "    attention_masks = torch.cat(attention_masks, dim=0)\n",
    "    \n",
    "    if labs != 'None':\n",
    "        labels = torch.tensor(labels)\n",
    "        return input_ids, attention_masks, labels\n",
    "    else:\n",
    "        return input_ids, attention_masks"
   ]
  },
  {
   "cell_type": "code",
   "execution_count": 23,
   "metadata": {},
   "outputs": [
    {
     "name": "stderr",
     "output_type": "stream",
     "text": [
      "C:\\Users\\akash\\.conda\\envs\\gpu\\lib\\site-packages\\transformers\\tokenization_utils_base.py:2377: FutureWarning: The `pad_to_max_length` argument is deprecated and will be removed in a future version, use `padding=True` or `padding='longest'` to pad to the longest sequence in the batch, or use `padding='max_length'` to pad to a max length. In this case, you can give a specific length with `max_length` (e.g. `max_length=45`) or leave max_length to None to pad to the maximal input size of the model (e.g. 512 for Bert).\n",
      "  warnings.warn(\n",
      "C:\\Users\\akash\\AppData\\Local\\Temp\\ipykernel_8928\\4287229203.py:20: FutureWarning: elementwise comparison failed; returning scalar instead, but in the future will perform elementwise comparison\n",
      "  if labs != 'None':\n"
     ]
    },
    {
     "data": {
      "text/plain": [
       "(35918, 8980)"
      ]
     },
     "execution_count": 23,
     "metadata": {},
     "output_type": "execute_result"
    }
   ],
   "source": [
    "input_ids, attention_masks, labels = tokenize_map(texts, labels)\n",
    "\n",
    "dataset = TensorDataset(input_ids, attention_masks, labels)\n",
    "\n",
    "train_size = int(0.8 * len(dataset))\n",
    "val_size = len(dataset) - train_size\n",
    "\n",
    "train_dataset, val_dataset = random_split(dataset, [train_size, val_size])\n",
    "len(train_dataset.indices), len(val_dataset.indices)"
   ]
  },
  {
   "cell_type": "code",
   "execution_count": 24,
   "metadata": {},
   "outputs": [],
   "source": [
    "batch_size = 16\n",
    "num_workers = 4\n",
    "\n",
    "train_loader = DataLoader(\n",
    "                dataset=train_dataset,\n",
    "                batch_size=batch_size,\n",
    "                shuffle=True,\n",
    "                num_workers=num_workers)\n",
    "\n",
    "val_loader = DataLoader(\n",
    "                dataset=val_dataset,\n",
    "                batch_size=1,\n",
    "                shuffle=False)"
   ]
  },
  {
   "cell_type": "markdown",
   "metadata": {},
   "source": [
    "# 4. Loading Deep Learning Model"
   ]
  },
  {
   "cell_type": "markdown",
   "metadata": {},
   "source": [
    "We used BERT for natural language processing based on deep learning model."
   ]
  },
  {
   "cell_type": "code",
   "execution_count": 25,
   "metadata": {},
   "outputs": [
    {
     "name": "stderr",
     "output_type": "stream",
     "text": [
      "Some weights of the model checkpoint at bert-base-uncased were not used when initializing BertForSequenceClassification: ['cls.predictions.transform.LayerNorm.bias', 'cls.predictions.transform.LayerNorm.weight', 'cls.predictions.bias', 'cls.seq_relationship.bias', 'cls.predictions.transform.dense.weight', 'cls.seq_relationship.weight', 'cls.predictions.transform.dense.bias']\n",
      "- This IS expected if you are initializing BertForSequenceClassification from the checkpoint of a model trained on another task or with another architecture (e.g. initializing a BertForSequenceClassification model from a BertForPreTraining model).\n",
      "- This IS NOT expected if you are initializing BertForSequenceClassification from the checkpoint of a model that you expect to be exactly identical (initializing a BertForSequenceClassification model from a BertForSequenceClassification model).\n",
      "Some weights of BertForSequenceClassification were not initialized from the model checkpoint at bert-base-uncased and are newly initialized: ['classifier.weight', 'classifier.bias']\n",
      "You should probably TRAIN this model on a down-stream task to be able to use it for predictions and inference.\n"
     ]
    },
    {
     "data": {
      "text/plain": [
       "BertForSequenceClassification(\n",
       "  (bert): BertModel(\n",
       "    (embeddings): BertEmbeddings(\n",
       "      (word_embeddings): Embedding(30522, 768, padding_idx=0)\n",
       "      (position_embeddings): Embedding(512, 768)\n",
       "      (token_type_embeddings): Embedding(2, 768)\n",
       "      (LayerNorm): LayerNorm((768,), eps=1e-12, elementwise_affine=True)\n",
       "      (dropout): Dropout(p=0.1, inplace=False)\n",
       "    )\n",
       "    (encoder): BertEncoder(\n",
       "      (layer): ModuleList(\n",
       "        (0-11): 12 x BertLayer(\n",
       "          (attention): BertAttention(\n",
       "            (self): BertSelfAttention(\n",
       "              (query): Linear(in_features=768, out_features=768, bias=True)\n",
       "              (key): Linear(in_features=768, out_features=768, bias=True)\n",
       "              (value): Linear(in_features=768, out_features=768, bias=True)\n",
       "              (dropout): Dropout(p=0.1, inplace=False)\n",
       "            )\n",
       "            (output): BertSelfOutput(\n",
       "              (dense): Linear(in_features=768, out_features=768, bias=True)\n",
       "              (LayerNorm): LayerNorm((768,), eps=1e-12, elementwise_affine=True)\n",
       "              (dropout): Dropout(p=0.1, inplace=False)\n",
       "            )\n",
       "          )\n",
       "          (intermediate): BertIntermediate(\n",
       "            (dense): Linear(in_features=768, out_features=3072, bias=True)\n",
       "            (intermediate_act_fn): GELUActivation()\n",
       "          )\n",
       "          (output): BertOutput(\n",
       "            (dense): Linear(in_features=3072, out_features=768, bias=True)\n",
       "            (LayerNorm): LayerNorm((768,), eps=1e-12, elementwise_affine=True)\n",
       "            (dropout): Dropout(p=0.1, inplace=False)\n",
       "          )\n",
       "        )\n",
       "      )\n",
       "    )\n",
       "    (pooler): BertPooler(\n",
       "      (dense): Linear(in_features=768, out_features=768, bias=True)\n",
       "      (activation): Tanh()\n",
       "    )\n",
       "  )\n",
       "  (dropout): Dropout(p=0.1, inplace=False)\n",
       "  (classifier): Linear(in_features=768, out_features=2, bias=True)\n",
       ")"
      ]
     },
     "execution_count": 25,
     "metadata": {},
     "output_type": "execute_result"
    }
   ],
   "source": [
    "device = torch.device('cuda:0' if torch.cuda.is_available() else 'cpu')\n",
    "\n",
    "model = BertForSequenceClassification.from_pretrained(\n",
    "        'bert-base-uncased',\n",
    "        num_labels=2,\n",
    "        output_attentions=False,\n",
    "        output_hidden_states=False)\n",
    "model.to(device)"
   ]
  },
  {
   "cell_type": "code",
   "execution_count": 26,
   "metadata": {},
   "outputs": [],
   "source": [
    "optimizer = torch.optim.AdamW(model.parameters(),\n",
    "                              lr=6e-6,\n",
    "                              eps=1e-8)"
   ]
  },
  {
   "cell_type": "code",
   "execution_count": 27,
   "metadata": {},
   "outputs": [],
   "source": [
    "num_epochs = 1\n",
    "total_steps = len(train_loader) * num_epochs\n",
    "scheduler = get_linear_schedule_with_warmup(optimizer, \n",
    "                                            num_warmup_steps = 0,\n",
    "                                            num_training_steps = total_steps)"
   ]
  },
  {
   "cell_type": "markdown",
   "metadata": {},
   "source": [
    "# 5. Training"
   ]
  },
  {
   "cell_type": "code",
   "execution_count": 28,
   "metadata": {},
   "outputs": [
    {
     "name": "stdout",
     "output_type": "stream",
     "text": [
      "1600 / 35918\n",
      "3200 / 35918\n",
      "4800 / 35918\n",
      "6400 / 35918\n",
      "8000 / 35918\n",
      "9600 / 35918\n",
      "11200 / 35918\n",
      "12800 / 35918\n",
      "14400 / 35918\n",
      "16000 / 35918\n",
      "17600 / 35918\n",
      "19200 / 35918\n",
      "20800 / 35918\n",
      "22400 / 35918\n",
      "24000 / 35918\n",
      "25600 / 35918\n",
      "27200 / 35918\n",
      "28800 / 35918\n",
      "30400 / 35918\n",
      "32000 / 35918\n",
      "33600 / 35918\n",
      "35200 / 35918\n",
      "Epoch: 1, Loss: 0.2333\n"
     ]
    }
   ],
   "source": [
    "model.train()\n",
    "\n",
    "total_step = len(train_loader)\n",
    "for epoch in range(num_epochs):\n",
    "    total_loss = 0\n",
    "    for i, (ids, masks, labels) in enumerate(train_loader):\n",
    "        ids = ids.to(device)\n",
    "        masks = masks.to(device)\n",
    "        labels = labels.to(device)\n",
    "        \n",
    "        loss = model(ids, token_type_ids=None, attention_mask=masks, labels=labels)[0]\n",
    "        \n",
    "        optimizer.zero_grad()\n",
    "        loss.backward()\n",
    "        optimizer.step()\n",
    "        scheduler.step()\n",
    "        \n",
    "        total_loss += loss.item()\n",
    "        \n",
    "        if (i+1) % 100 == 0:\n",
    "            print('{} / {}'.format(batch_size*(i+1), train_dataset.__len__()))\n",
    "            \n",
    "    print('Epoch: {}, Loss: {:.4f}'.format(epoch+1, total_loss / total_step))\n",
    "            \n",
    "torch.save(model.state_dict(), 'BERT.h5')"
   ]
  },
  {
   "cell_type": "markdown",
   "metadata": {},
   "source": [
    "# 6. Evaluation"
   ]
  },
  {
   "cell_type": "code",
   "execution_count": 29,
   "metadata": {},
   "outputs": [
    {
     "data": {
      "text/plain": [
       "<All keys matched successfully>"
      ]
     },
     "execution_count": 29,
     "metadata": {},
     "output_type": "execute_result"
    }
   ],
   "source": [
    "model.eval()\n",
    "model.load_state_dict(torch.load('BERT.h5', map_location=device))"
   ]
  },
  {
   "cell_type": "code",
   "execution_count": 30,
   "metadata": {},
   "outputs": [
    {
     "name": "stdout",
     "output_type": "stream",
     "text": [
      "Accuracy: 0.9359\n",
      "\n"
     ]
    }
   ],
   "source": [
    "score = 0\n",
    "for i, (ids, masks, labels) in enumerate(val_loader):\n",
    "    ids = ids.to(device)\n",
    "    masks = masks.to(device)\n",
    "    labels = labels.to(device)\n",
    "\n",
    "    g_labels = model(ids, token_type_ids=None, attention_mask=masks, labels=labels)[1]\n",
    "    \n",
    "    pred = torch.max(g_labels, 1)[1][0].item()\n",
    "    gt = labels[0].item()\n",
    "    \n",
    "    score += int(pred == gt)\n",
    "\n",
    "avg = score / len(val_dataset)\n",
    "print('Accuracy: {:.4f}\\n'.format(avg))"
   ]
  },
  {
   "cell_type": "markdown",
   "metadata": {},
   "source": [
    "It showed 93.59% performance!"
   ]
  },
  {
   "cell_type": "markdown",
   "metadata": {},
   "source": [
    "# 7. Run Demo"
   ]
  },
  {
   "cell_type": "code",
   "execution_count": 169,
   "metadata": {},
   "outputs": [],
   "source": []
  }
 ],
 "metadata": {
  "kernelspec": {
   "display_name": "Python 3 (ipykernel)",
   "language": "python",
   "name": "python3"
  },
  "language_info": {
   "codemirror_mode": {
    "name": "ipython",
    "version": 3
   },
   "file_extension": ".py",
   "mimetype": "text/x-python",
   "name": "python",
   "nbconvert_exporter": "python",
   "pygments_lexer": "ipython3",
   "version": "3.9.16"
  }
 },
 "nbformat": 4,
 "nbformat_minor": 4
}
